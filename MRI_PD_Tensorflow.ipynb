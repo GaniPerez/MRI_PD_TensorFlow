{
 "cells": [
  {
   "cell_type": "markdown",
   "id": "e6967bdd-cf1c-4514-8954-d5fc4f8ac808",
   "metadata": {},
   "source": [
    "# Parkinson's Disease Classification Using \"2.5D\" Slices from 3T T1-weighted MRI Images\n",
    "\n",
    "by: Gani Perez\n",
    "\n",
    "@GitHub: GaniPerez"
   ]
  },
  {
   "cell_type": "markdown",
   "id": "265a194c-ff33-4bf3-8713-23724048a49c",
   "metadata": {},
   "source": [
    "This project hopes to develop a neural network to classify Parkinson's Disease patients by \"2.5D\" slices from T1-weighted MRIs. It is largely inspired by a slew of positive and negative studies finding differences (or no differences) between the MRIs of Parkinson's patients vs healthy controls. In previous papers, including [here](https://www.sciencedirect.com/science/article/abs/pii/S1353802008001521), [here](https://pubmed.ncbi.nlm.nih.gov/25628916/), and [here](https://www.frontiersin.org/articles/10.3389/fneur.2019.01329/full) (among others) largely show a failure to find volume-based differences between various regions of the brain, but show scattered and inconsistent differences in voxel-based morphometry of particular brain regions, including the [putamen](https://pubmed.ncbi.nlm.nih.gov/25628916/), [hippocampus and striatum](https://www.frontiersin.org/articles/10.3389/fneur.2017.00139/full), [caudate nucleus](https://pubmed.ncbi.nlm.nih.gov/29962342/), [amygdala](https://www.frontiersin.org/articles/10.3389/fneur.2019.01329/full), [nucleus accumbens](https://pubmed.ncbi.nlm.nih.gov/24817690/), [pallidum and thalamus](https://www.frontiersin.org/articles/10.3389/fnins.2015.00101/full). Frankly, the literature is all over the place."
   ]
  },
  {
   "cell_type": "markdown",
   "id": "ef7d810b-9525-4c4d-8992-c835b42a647e",
   "metadata": {},
   "source": [
    "Most of these differences among brain regions were found as subtle changes to cell density and regional morphology, both of which may be found via a T1-weighted MRI. Thus, this workflow hopes to use a neural network to identify some of these potential differences and use them to distinguish between PD patients and controls.\n",
    "\n",
    "It's important to note that T1-weighted MRIs are not typically used for the diagnosis or confirmation of PD. If imaging is done to augment a diagnosis, it is usually a resting-state fMRI, PET, or echosonogram. Unfortunately, fMRI technology has low resolution, is expensive and inconvenient, and has high variability (it requires a patient to stay still for 5-15 minutes in an MRI machine). On the other hand, echosonography is inconsistent, requires very specialized training, and is sensitive to small differences in skull shape between patients. While PET studies have the highest chance to show the dopaminergic deficit in PD, they are also invasive, expensive, and often trigger painful allergic reactions (they require the injection of radioactive tracers). None of these options are particularly suitable for a screening approach. On the other hand, T1-weighted MRIs are quick, much less invasive, and the technology is more readily available. However, as described above, the literature is extremely conflicted whether any differences exist between the T1-weighted MRIs of patients and healthy controls."
   ]
  },
  {
   "cell_type": "markdown",
   "id": "917244e7-321e-4245-8cc6-f6fa3d04518e",
   "metadata": {
    "tags": []
   },
   "source": [
    "## The Workflow Structure\n",
    "\n",
    "The workflow takes a T1-weighted MRI image and uses another available neural network called [MALPEM](https://github.com/ledigchr/MALPEM) to infer voxel coordinates corresponding to a brain region of interest. Then, it randomly subsamples 50 of these coordinates, as long as they are separated by a block of 5 voxels. Of these samples, it extracts three 32x32 images, corresponding to the coronal, sagittal, and axial cut centering on that voxel coordinate. From there, it overlays these 3 images to form a single RGB image \"subsample,\" which is then processed by the neural network below. "
   ]
  },
  {
   "cell_type": "markdown",
   "id": "068a46ff-c6c2-4b5d-9c8b-0c37d85e8dee",
   "metadata": {},
   "source": [
    "### How cuts are performed\n",
    "\n",
    "After subsampling, the way images are constructed from a voxel coordinate is described below. This comes from [this paper](https://www.frontiersin.org/articles/10.3389/fnins.2018.00777/full).\n",
    "\n",
    "![alt_text](subsample_cuts_example.png \"Subsampling\")\n"
   ]
  },
  {
   "cell_type": "markdown",
   "id": "4f2bff6c-9035-4fe2-a2fc-7758adab5d56",
   "metadata": {
    "tags": []
   },
   "source": [
    "#### Why this workflow? Why subsample?\n",
    "My choice to subsample small cuts from the entire 3D MRI is probably one of the most controversial choices in this workflow. The decision is largely borne from technical limitations: first off, my image library only consists of 36 healthy controls and 47 patients, and I was not sure if I was comfortable running a neural network with these lower number of samples, relative to the number of dimensions in my data. Second, my computer's GPU doesn't have the available VRAM to perform tensor operations on large 3D images, and I wanted to refrain from using Biowulf as I wanted to learn how to run this on my computer (since I won't be at the NIH forever)! Last, I was relatively comfortable with this decision because of a few scientific facts:\n",
    "1. Most studies cited atrophy in relevant areas primarily due to loss of dopamine from connected dopaminergic neurons. This sort of atrophy would affect almost all of the regions in question, ensuring that any given \"cut\" should have signs of this occurring.\n",
    "2. Thirty-two voxels is actually a good distance which seems to cover a good portion of each region in question.\n",
    "3. I wanted to introduce some degree of constancy into my neural network, as I am interested in whether the *entirety* of these regions display morphological changes due to PD. If our model can differentiate between PD and control even despite different views of the region, I am satisfied that such differences actually exist between PD and control.\n",
    "\n",
    "In reality, I am not confident that we will be able to distinguish between PD and control images using this method, as I am very skeptical about the findings of the above literature. Thus, working with more images (and putting together the preprocessing workflow) is also a training exercise for me, and will hopefully prepare me to do more involved data preprocessing like this in the future."
   ]
  },
  {
   "cell_type": "markdown",
   "id": "feefb035-4b98-4758-a24d-6f0225509b94",
   "metadata": {
    "tags": []
   },
   "source": [
    "## Loading the Data\n",
    "\n",
    "This set of cells loads the data."
   ]
  },
  {
   "cell_type": "code",
   "execution_count": 1,
   "id": "8450fd5b",
   "metadata": {
    "tags": []
   },
   "outputs": [],
   "source": [
    "import numpy as np\n",
    "import MRIs\n",
    "import os\n",
    "%matplotlib inline\n",
    "from datetime import datetime"
   ]
  },
  {
   "cell_type": "markdown",
   "id": "ee4253e7-a39a-478f-aa24-46ecf1f833c3",
   "metadata": {},
   "source": [
    "The MRI_input_array is an object holding train, validation, and test image sets. If these image sets don't yet exist, they can create them by calling the referenced MRI_Img object. It takes four parameters: input_dir, output_dir, load_dir, and region. The other two (n and strides) are optional, and determine how many subsamples are generated, and how many voxels apart the subsamples are. Defaults are 150 and 3."
   ]
  },
  {
   "cell_type": "markdown",
   "id": "7d371605-b0c4-4a1c-95da-8b721ef0b715",
   "metadata": {},
   "source": [
    "This first cell creates a new set of images, if they don't exist. input_dir, output_dir, and region are all that is needed. Currently, 7 regions are supported: amygdala, putamen, hippocampus, NAc (nucleus accumbens), thalamus, caudate nucleus, and pallidum."
   ]
  },
  {
   "cell_type": "code",
   "execution_count": null,
   "id": "931b0e1f",
   "metadata": {
    "tags": []
   },
   "outputs": [],
   "source": [
    "now = datetime.now()\n",
    "date_time = now.strftime(\"%m_%d_%Y__%H_%M_%S\")\n",
    "\n",
    "obj = MRIs.MRI_input_array(input_dir=\"./finished_runs\", output_dir=\"./hippocampus_n50_s5__\" + date_time + \"/\", region='hippocampus', n=50, strides=5)"
   ]
  },
  {
   "cell_type": "markdown",
   "id": "e4c6c6cc-ded2-46ad-a88e-381fbf27a2a8",
   "metadata": {},
   "source": [
    "However, if you've already created your set of images, you may simply load them with the below command. The only parameter needed is load_dir, leading to the location of these subsample directories."
   ]
  },
  {
   "cell_type": "code",
   "execution_count": 2,
   "id": "3f468027-055c-4a8b-8ac3-38b9d8d50273",
   "metadata": {
    "tags": []
   },
   "outputs": [
    {
     "name": "stdout",
     "output_type": "stream",
     "text": [
      "Loading images from directory...\n",
      "imgs: 4150\n",
      "num control: 1800\n",
      "num patient: 2350\n",
      "4150\n",
      "train size: 3320\n",
      "validation size: 415\n",
      "test size: 415\n",
      "Finished loading images into object.\n"
     ]
    }
   ],
   "source": [
    "obj = MRIs.MRI_input_array(load_dir = \"./amygdala_n50_s5__12_08_2021__22_40_37/\")"
   ]
  },
  {
   "cell_type": "markdown",
   "id": "299876f4-b659-4ce4-80e8-3f610408d3ce",
   "metadata": {},
   "source": [
    "### WARNING: Important\n",
    "\n",
    "If you are reading this cell, this means that I haven't yet fixed the database structure for the subsample pictures. This means that every time you reload the input data with the MRI_input_array() initialization, it generates new random values for segregating the train-validation-test data. A reproducibility nightmare! This means that you can expect slightly different results after each run through the notebook. More importantly, this means that you CANNOT load a previously-tuned model here, as most of the current test set was likely part of the training set when the model was originally trained. Finally, this means that you will likely not reproduce the exact values that I achieved (including specific hyperparameters when tuning). I guess I have accidentally done k-fold cross validation! This will be fixed soon, but is worth noting in case the model architecture arrives at a different accuracy, or the hyperparameter tuner arrives at a vastly different set of hyperparameters."
   ]
  },
  {
   "cell_type": "markdown",
   "id": "8c1ae5b1-05bf-4307-8b12-0cdc0a0ec560",
   "metadata": {},
   "source": [
    "Back to the regularly scheduled programming... this is a simple test to check whether the dataset is of the correct shape. It should be (num images, dimensions of flat array)."
   ]
  },
  {
   "cell_type": "code",
   "execution_count": 3,
   "id": "0b45db11-6cba-491b-981c-ccab58b6094f",
   "metadata": {},
   "outputs": [
    {
     "data": {
      "text/plain": [
       "(3320, 3072)"
      ]
     },
     "execution_count": 3,
     "metadata": {},
     "output_type": "execute_result"
    }
   ],
   "source": [
    "obj.train_x[:,:].shape"
   ]
  },
  {
   "cell_type": "markdown",
   "id": "87d3e9dc-915f-433f-b67a-ae82d362aa8b",
   "metadata": {},
   "source": [
    "Now to set some variables for convenience..."
   ]
  },
  {
   "cell_type": "code",
   "execution_count": 4,
   "id": "e86189b3-beb6-42c8-88c2-539ef6a6ecea",
   "metadata": {},
   "outputs": [],
   "source": [
    "img_size = obj.img_size\n",
    "img_size_flat = obj.img_size_flat\n",
    "num_channels = obj.num_channel\n",
    "img_shape_full = obj.img_shape_full\n",
    "num_classes = obj.num_classes"
   ]
  },
  {
   "cell_type": "markdown",
   "id": "b95bc505-c3b0-463b-b10f-fbd101cdd9ea",
   "metadata": {},
   "source": [
    "Now to check whether the computer is handling the GPU as intended..."
   ]
  },
  {
   "cell_type": "code",
   "execution_count": 5,
   "id": "26e68bab-f84f-44e1-8720-bc320a63d15c",
   "metadata": {},
   "outputs": [],
   "source": [
    "from tensorflow.keras.layers import InputLayer, Input, Reshape, MaxPooling2D, AveragePooling2D\n",
    "from tensorflow.keras.layers import Conv2D, Dense, Flatten, Dropout\n",
    "from tensorflow.config.experimental import list_physical_devices\n",
    "from tensorflow.python.keras.models import Model\n",
    "from tensorflow.keras.optimizers import Adam\n",
    "from tensorflow.math import confusion_matrix"
   ]
  },
  {
   "cell_type": "code",
   "execution_count": 6,
   "id": "66049a47-43b7-448a-80ae-072ec9cdc6b3",
   "metadata": {
    "tags": []
   },
   "outputs": [
    {
     "name": "stderr",
     "output_type": "stream",
     "text": [
      "2021-12-12 14:51:46.628619: I tensorflow/core/platform/cpu_feature_guard.cc:151] This TensorFlow binary is optimized with oneAPI Deep Neural Network Library (oneDNN) to use the following CPU instructions in performance-critical operations:  AVX2 FMA\n",
      "To enable them in other operations, rebuild TensorFlow with the appropriate compiler flags.\n",
      "2021-12-12 14:51:46.789485: I tensorflow/stream_executor/cuda/cuda_gpu_executor.cc:922] could not open file to read NUMA node: /sys/bus/pci/devices/0000:2b:00.0/numa_node\n",
      "Your kernel may have been built without NUMA support.\n",
      "2021-12-12 14:51:46.810650: I tensorflow/stream_executor/cuda/cuda_gpu_executor.cc:922] could not open file to read NUMA node: /sys/bus/pci/devices/0000:2b:00.0/numa_node\n",
      "Your kernel may have been built without NUMA support.\n",
      "2021-12-12 14:51:46.810924: I tensorflow/stream_executor/cuda/cuda_gpu_executor.cc:922] could not open file to read NUMA node: /sys/bus/pci/devices/0000:2b:00.0/numa_node\n",
      "Your kernel may have been built without NUMA support.\n",
      "2021-12-12 14:51:47.266977: I tensorflow/stream_executor/cuda/cuda_gpu_executor.cc:922] could not open file to read NUMA node: /sys/bus/pci/devices/0000:2b:00.0/numa_node\n",
      "Your kernel may have been built without NUMA support.\n",
      "2021-12-12 14:51:47.267214: I tensorflow/stream_executor/cuda/cuda_gpu_executor.cc:922] could not open file to read NUMA node: /sys/bus/pci/devices/0000:2b:00.0/numa_node\n",
      "Your kernel may have been built without NUMA support.\n",
      "2021-12-12 14:51:47.267223: I tensorflow/core/common_runtime/gpu/gpu_device.cc:1609] Could not identify NUMA node of platform GPU id 0, defaulting to 0.  Your kernel may not have been built with NUMA support.\n",
      "2021-12-12 14:51:47.267510: I tensorflow/stream_executor/cuda/cuda_gpu_executor.cc:922] could not open file to read NUMA node: /sys/bus/pci/devices/0000:2b:00.0/numa_node\n",
      "Your kernel may have been built without NUMA support.\n",
      "2021-12-12 14:51:47.267552: I tensorflow/core/common_runtime/gpu/gpu_device.cc:1525] Created device /device:GPU:0 with 5430 MB memory:  -> device: 0, name: NVIDIA GeForce RTX 3070, pci bus id: 0000:2b:00.0, compute capability: 8.6\n"
     ]
    },
    {
     "data": {
      "text/plain": [
       "''"
      ]
     },
     "execution_count": 6,
     "metadata": {},
     "output_type": "execute_result"
    }
   ],
   "source": [
    "from tensorflow.python.client import device_lib\n",
    "device_lib.list_local_devices()\n",
    ";"
   ]
  },
  {
   "cell_type": "code",
   "execution_count": 7,
   "id": "75f7e171-ba39-4dea-963b-885903c8bea7",
   "metadata": {
    "tags": []
   },
   "outputs": [
    {
     "name": "stdout",
     "output_type": "stream",
     "text": [
      "GPUs:  1\n"
     ]
    },
    {
     "name": "stderr",
     "output_type": "stream",
     "text": [
      "2021-12-12 14:51:48.582835: I tensorflow/stream_executor/cuda/cuda_gpu_executor.cc:922] could not open file to read NUMA node: /sys/bus/pci/devices/0000:2b:00.0/numa_node\n",
      "Your kernel may have been built without NUMA support.\n",
      "2021-12-12 14:51:48.583120: I tensorflow/stream_executor/cuda/cuda_gpu_executor.cc:922] could not open file to read NUMA node: /sys/bus/pci/devices/0000:2b:00.0/numa_node\n",
      "Your kernel may have been built without NUMA support.\n",
      "2021-12-12 14:51:48.583364: I tensorflow/stream_executor/cuda/cuda_gpu_executor.cc:922] could not open file to read NUMA node: /sys/bus/pci/devices/0000:2b:00.0/numa_node\n",
      "Your kernel may have been built without NUMA support.\n"
     ]
    }
   ],
   "source": [
    "os.environ['TF_XLA_FLAGS'] = '--tf_xla_enable_xla_devices'\n",
    "print(\"GPUs: \", len(list_physical_devices('GPU')))"
   ]
  },
  {
   "cell_type": "markdown",
   "id": "cafe41d3-8da4-4ba5-8e23-9f92fdddd32e",
   "metadata": {},
   "source": [
    "### Setting up the Neural Network Architecture"
   ]
  },
  {
   "cell_type": "markdown",
   "id": "5d6e3f59-e211-4c5a-9673-2e7248a283d8",
   "metadata": {},
   "source": [
    "For now, my naive neural network has 3 convolution layers and three dense layers. First, the network is fed a variable array of the size (batch_size, img_size_flat). From there, it reshapes each image into a (32,32,3) array, such that the new tensor size is (None, 32, 32, 3). From there, it performs 1) convolution followed by linear activation and max pooling, 2) convolution followed by relu activation and average pooling, and 3) convolution followed by relu activation and average pooling. At this point, the data is flattened, and then passed through three dense layers: 1) 100 neurons with relu activation, 2) 100 neurons with relu activation, 3) 20 neurons with relu activation. Finally, it is fed into 2 output neurons with softmax activation."
   ]
  },
  {
   "cell_type": "markdown",
   "id": "5cb74eab-cd8b-473a-9885-ed954b5181cd",
   "metadata": {},
   "source": [
    "Despite the fact that this model matches what was used for convolution in Lin et al. 2018, it performs surprisingly poorly on this dataset. I also had to change the activation in the first layer from 'relu' to 'linear' because I was entering a \"relu hell\" where most of the features were seemingly zeroed out."
   ]
  },
  {
   "cell_type": "code",
   "execution_count": null,
   "id": "8e2934db-49e3-4b93-99f2-538a881d422d",
   "metadata": {},
   "outputs": [],
   "source": [
    "# We'll start by creating an input function. Note that we are not creating a model object and\n",
    "# adding the layers to the model object; we are calling the inside function directly.\n",
    "inputs = Input(shape=(img_size_flat,))\n",
    "\n",
    "# Variable used for building the neural network\n",
    "net = inputs\n",
    "\n",
    "# Reshaping input\n",
    "reshape = Reshape(img_shape_full)   # Here, we're creating an object that consists of the Reshape command: specifically,\n",
    "                                    # reshaping to the shape of (32,32,3).\n",
    "\n",
    "net = reshape(net)                  # Since reshape is a callable object, we will call it.\n",
    "\n",
    "# In practice, it's faster to instead simply type:\n",
    "# net = Reshape(img_shape_full)(net).\n",
    "# Instead of assigning Reshape(img_shape_full) to a pointer, we're simply re-calling the object immediately.\n",
    "\n",
    "# 1st Convolutional Layer\n",
    "net = Conv2D(kernel_size=(5,5), strides=1, filters=16, padding='same',\n",
    "             activation='linear', name='layer_conv1')(net)\n",
    "net = MaxPooling2D(pool_size=(3,3), strides=2)(net)\n",
    "\n",
    "# 2nd Convolutional Layer\n",
    "net = Conv2D(kernel_size=(5,5), strides=1, filters=16, padding='same',\n",
    "             activation='relu', name='layer_conv2')(net)\n",
    "net = AveragePooling2D(pool_size=(3,3), strides=2)(net)\n",
    "\n",
    "net = Conv2D(kernel_size=(5,5), strides=1, filters=32, padding='same',\n",
    "             activation='relu', name='layer_conv3')(net)\n",
    "net = AveragePooling2D(pool_size=(3,3), strides=2)(net)\n",
    "\n",
    "# Flatten\n",
    "net = Flatten()(net)\n",
    "\n",
    "# Dropout\n",
    "net = Dropout(rate=0.3)(net)\n",
    "\n",
    "# 2nd Dense Layer\n",
    "net = Dense(100, activation='relu')(net)\n",
    "\n",
    "# 3rd Dense Layer\n",
    "net = Dense(100, activation='relu')(net)\n",
    "\n",
    "net = Dense(20, activation='relu')(net)\n",
    "\n",
    "# 4th Dense Layer\n",
    "net = Dense(2, activation='softmax')(net) # may use logistic activation here\n",
    "\n",
    "# setting our output to the result of this network\n",
    "outputs = net"
   ]
  },
  {
   "cell_type": "markdown",
   "id": "3d475ccf-e882-432c-ace0-e35b7a551598",
   "metadata": {},
   "source": [
    "Now to initialize and compile our model. For now, I'll use a learning rate of 0.001 and binary cross-entropy as the loss function. The optimizer uses stochastic gradient descent algorithm with adaptive moments (ADAM). ADAM tends to overshoot at first but still converges much faster than the standard sgd algorithm. Everything's written into Keras so it's very easy to generate and compile the model."
   ]
  },
  {
   "cell_type": "code",
   "execution_count": null,
   "id": "ef09efb4-0f83-4a4d-a1f6-2e8f3da06748",
   "metadata": {},
   "outputs": [],
   "source": [
    "from tensorflow.python.keras.optimizer_v2.adam import Adam\n",
    "\n",
    "# This will create an instance of our model.\n",
    "model = Model(inputs=inputs, outputs=outputs)\n",
    "\n",
    "model.compile(optimizer=Adam(learning_rate=1e-3),\n",
    "               loss='binary_crossentropy',\n",
    "               metrics=['accuracy'])"
   ]
  },
  {
   "cell_type": "markdown",
   "id": "49093d0b-206a-4355-9b50-9a369b58af3b",
   "metadata": {},
   "source": [
    "### Training and Fitting\n",
    "\n",
    "We'll set a counter here to record how many total epochs we have trained with."
   ]
  },
  {
   "cell_type": "code",
   "execution_count": null,
   "id": "d50c6260-e2d7-461e-81d6-975f88fb2429",
   "metadata": {},
   "outputs": [],
   "source": [
    "epochs = 0"
   ]
  },
  {
   "cell_type": "markdown",
   "id": "c643dbcd-cbe1-4e6f-8301-49d8f3277f00",
   "metadata": {},
   "source": [
    "To train:"
   ]
  },
  {
   "cell_type": "code",
   "execution_count": null,
   "id": "d8b658cd-831f-492e-8bcf-45ecb8f73f05",
   "metadata": {
    "tags": []
   },
   "outputs": [],
   "source": [
    "run_epochs = 18\n",
    "\n",
    "model.fit(x=obj.train_x,\n",
    "          y=obj.train_y,\n",
    "          epochs=run_epochs, batch_size=64)\n",
    "\n",
    "epochs += run_epochs\n",
    "print(\"Total epochs: \" + str(epochs))"
   ]
  },
  {
   "cell_type": "markdown",
   "id": "9eed5609-dd86-447e-872b-79fed7f8aedf",
   "metadata": {},
   "source": [
    "Now that the model has been trained, I'm going to evaluate it on the validation set. To assess the number of epochs, you may consider running 1-2 epochs at a time and evaluating on the validation dataset after each time, to track whether the validation loss is decreasing. More on this later. I didn't show you the process of doing that (which would be long and tedious), so rest assured that the number of epochs is about enough to minimize the validation loss."
   ]
  },
  {
   "cell_type": "code",
   "execution_count": null,
   "id": "8ec32b0b-ae67-4c64-bd1e-229824979d60",
   "metadata": {},
   "outputs": [],
   "source": [
    "results = model.evaluate(x = obj.validation_x, y = obj.validation_y)\n",
    "\n",
    "for name, value in zip(model.metrics_names, results):\n",
    "    print(name, value)"
   ]
  },
  {
   "cell_type": "markdown",
   "id": "90da116b-21e0-42aa-951a-f4cef56f0aea",
   "metadata": {},
   "source": [
    "This will show us a summary of our model. Because it's not called sequentially, it doesn't show the individual layers here. However, we can see the number of trainable parameters."
   ]
  },
  {
   "cell_type": "code",
   "execution_count": null,
   "id": "9dde924f-d8d8-47bc-aeb9-e6cb2f75ae46",
   "metadata": {},
   "outputs": [],
   "source": [
    "model.summary()"
   ]
  },
  {
   "cell_type": "markdown",
   "id": "c0efadc0-7a88-41cd-bd8b-b78a609ea614",
   "metadata": {},
   "source": [
    "Next, let's see how the model's predictions lined up with the actual test data. We will call model.predict() in order to receive predictions from the model -- these predictions are in the form [p_control, p_PD]. From here, we will do np.argmax() over the column axis in order to take the highest of the p-values -- this represents the class prediction. Thus, y_pred is a 1D array of class predictions, 0 or 1."
   ]
  },
  {
   "cell_type": "code",
   "execution_count": null,
   "id": "ed8bc40d-6b35-4a09-b2ab-5e36dfaff9a2",
   "metadata": {},
   "outputs": [],
   "source": [
    "y_pred = np.argmax(model.predict(x=obj.test_x),axis=1)  "
   ]
  },
  {
   "cell_type": "markdown",
   "id": "56211703-6152-462b-805a-9ed6a32c870a",
   "metadata": {
    "tags": []
   },
   "source": [
    "These next two cells are helper functions within the MRIs module -- they allow us to plot images with their true class and predicted class. Plot_example_errors shows us a random set of 9 pictures whose predicted class didn't match up with the true class."
   ]
  },
  {
   "cell_type": "code",
   "execution_count": null,
   "id": "e362e7f7-7869-4666-a3b1-625456a0dcea",
   "metadata": {
    "tags": []
   },
   "outputs": [],
   "source": [
    "MRIs.plot_images(images=obj.test_x[0:9], cls_true=np.argmax(obj.test_y[0:9], axis=1), cls_pred=y_pred[0:9]) "
   ]
  },
  {
   "cell_type": "code",
   "execution_count": null,
   "id": "a76c40eb-98aa-4272-99b7-a844f0ffd6a8",
   "metadata": {},
   "outputs": [],
   "source": [
    "MRIs.plot_example_errors(obj, cls_pred=y_pred)"
   ]
  },
  {
   "cell_type": "markdown",
   "id": "e82c722d-d900-41df-8bd0-265b5c8e04f6",
   "metadata": {},
   "source": [
    "Finally, let's calculate the confusion matrix of our naive model."
   ]
  },
  {
   "cell_type": "code",
   "execution_count": null,
   "id": "867867b7-fcef-4f58-ab45-f3322a4a44c7",
   "metadata": {},
   "outputs": [],
   "source": [
    "conf_matrix = confusion_matrix(y_true, y_pred)\n",
    "conf_matrix = np.asarray(conf_matrix)\n",
    "conf_matrix"
   ]
  },
  {
   "cell_type": "code",
   "execution_count": null,
   "id": "7456060c-9292-4d81-96c4-16a6de1fd7bb",
   "metadata": {},
   "outputs": [],
   "source": [
    "test_model_stats(conf_matrix)"
   ]
  },
  {
   "cell_type": "markdown",
   "id": "92a63f27-f35b-469c-af4f-efba6937ea37",
   "metadata": {},
   "source": [
    "## Tuning Hyperparameters\n",
    "\n",
    "The above model was a naive model -- I followed the general schematic of Lin et al. 2018 but didn't have any particular rationale for choosing this network architecture over another. Because our data is different, I'd like to tune the hyperparameters to find a more optimal network architecture for my data.\n",
    "\n",
    "I will use the keras tuner. Unfortunately, there doesn't seem to be a keras tuner in the keras build in tensorflow, so we will switch to pure keras for the hyperparameter tuning. Since the tensorflow implementation of keras is essentially a clone, I don't feel too worried that these will give different results."
   ]
  },
  {
   "cell_type": "code",
   "execution_count": 8,
   "id": "d80e3b08-c580-4b0f-ba84-2886ee6160ab",
   "metadata": {},
   "outputs": [],
   "source": [
    "# re-importing everything from keras native.\n",
    "import keras_tuner as kt\n",
    "from keras.callbacks import EarlyStopping\n",
    "from keras.layers import InputLayer, Input, Reshape, MaxPooling2D, AveragePooling2D\n",
    "from keras.layers import Conv2D, Dense, Flatten, Dropout\n",
    "from keras.models import Model\n",
    "from keras.optimizer_v2.adam import Adam"
   ]
  },
  {
   "cell_type": "markdown",
   "id": "0b6796fc-8cc0-42d1-9e35-a359513bac9d",
   "metadata": {},
   "source": [
    "This defines a function we will use to build models with different hyperparameters. These are the hyperparameters to be tuned:\n",
    "\n",
    "- Number of convolution layers: [1:3:]\n",
    "- Number of convolution kernels: [8:40:8]\n",
    "- Dropout rate: [0.1:0.5:0.1]\n",
    "- Number of dense layers: [1:4:]\n",
    "- Number of neurons per dense layer: [75:225:25]\n",
    "- Number of neurons in final dense layer: [10:110:10]\n",
    "- Learning rate: 0.01, 0.001, or 0.0001"
   ]
  },
  {
   "cell_type": "code",
   "execution_count": 9,
   "id": "d5f59cc8-71d1-4973-b5e7-d5873e2825c6",
   "metadata": {},
   "outputs": [],
   "source": [
    "def model_builder(hp):\n",
    "    \n",
    "    inputs = Input(shape=(img_size_flat,))\n",
    "    net = inputs\n",
    "    \n",
    "    reshape = Reshape(img_shape_full)\n",
    "    net = reshape(net)\n",
    "    \n",
    "    conv_layers = hp.Int('conv_layers', min_value=1, max_value=2, step=1)\n",
    "    kernel_num = hp.Int('kernels', min_value=8, max_value=32, step=8)\n",
    "    for i in range(0, conv_layers):\n",
    "        layer_num = \"layer_conv\" + str(i)\n",
    "        net = Conv2D(kernel_size=(5,5), strides=1, filters=kernel_num, padding='same',\n",
    "             activation='relu', name=layer_num)(net)\n",
    "        net = MaxPooling2D(pool_size=(3,3), strides=2)(net)\n",
    "    \n",
    "    # Flatten\n",
    "    net = Flatten()(net)\n",
    "    \n",
    "    dropout_rate = hp.Float('dropout', min_value=0.1, max_value=0.4, step=0.1)\n",
    "    # Dropout\n",
    "    net = Dropout(rate=0.3)(net)\n",
    "    \n",
    "    dense_layers = hp.Int('dense_layers', min_value=1, max_value=3, step=1)\n",
    "    neurons = hp.Int('neurons', min_value=75, max_value=200, step=25)\n",
    "    \n",
    "    for i in range(0, dense_layers):\n",
    "        net = Dense(neurons, activation='relu')(net)\n",
    "    \n",
    "    neurons2 = hp.Int('neurons2', min_value=10, max_value=100, step=10)\n",
    "    net = Dense(neurons2, activation='relu')(net)\n",
    "    net = Dense(2, activation='softmax')(net)\n",
    "    outputs = net\n",
    "    \n",
    "    model = Model(inputs=inputs, outputs=outputs)\n",
    "    \n",
    "    lr = hp.Choice('learning_rate', values=[1e-2, 1e-3, 1e-4])\n",
    "    model.compile(optimizer=Adam(learning_rate=lr),\n",
    "                  loss='binary_crossentropy',\n",
    "                  metrics=['accuracy'])\n",
    "    \n",
    "    return model"
   ]
  },
  {
   "cell_type": "markdown",
   "id": "0a5a377b-affb-482d-a936-4c9828aedc3c",
   "metadata": {},
   "source": [
    "Next, we will instantiate our tuner. Make sure to change the \"directory\" parameter to a directory that is empty! Otherwise, the tuner will automatically exit."
   ]
  },
  {
   "cell_type": "code",
   "execution_count": 12,
   "id": "992e85e6-7919-4e6b-a37f-ed76214869ec",
   "metadata": {},
   "outputs": [],
   "source": [
    "tuner = kt.Hyperband(model_builder,\n",
    "                     objective='val_accuracy',\n",
    "                     max_epochs=30,\n",
    "                     factor=3,\n",
    "                     directory='./tuning1',\n",
    "                     project_name='MRI_PD')\n",
    "stop_early = EarlyStopping(monitor='val_loss', patience=5)"
   ]
  },
  {
   "cell_type": "markdown",
   "id": "a0537615-1464-42c4-9742-0f04a8b45ef9",
   "metadata": {},
   "source": [
    "This tuner does bayesian optimization with the hyperparameters of the search space. Instead of searching through each set to 50 epochs, it is programmed to stop searching a particular set of hyperparameters if the validation loss does not decrease substantially by 5 epochs."
   ]
  },
  {
   "cell_type": "code",
   "execution_count": 13,
   "id": "47dd8c6c-7e5c-4e78-8b17-fb1fefb6985a",
   "metadata": {},
   "outputs": [
    {
     "name": "stdout",
     "output_type": "stream",
     "text": [
      "Trial 90 Complete [00h 00m 03s]\n",
      "val_accuracy: 0.0\n",
      "\n",
      "Best val_accuracy So Far: 0.22439758479595184\n",
      "Total elapsed time: 00h 03m 47s\n",
      "INFO:tensorflow:Oracle triggered exit\n"
     ]
    }
   ],
   "source": [
    "tuner.search(obj.train_x, obj.train_y, epochs=15, validation_split=0.2, callbacks=[stop_early])"
   ]
  },
  {
   "cell_type": "code",
   "execution_count": 14,
   "id": "0f722d78-db68-4869-bc70-f23fcf9a3f29",
   "metadata": {},
   "outputs": [
    {
     "name": "stdout",
     "output_type": "stream",
     "text": [
      "\n",
      "The hyperparameter search is complete. \n",
      "conv_layers: 1\n",
      "kernels: 16\n",
      "dropout: 0.4\n",
      "dense_layers: 2\n",
      "neurons: 100\n",
      "neurons2: 20\n",
      "learning rate: 0.001\n",
      "\n"
     ]
    }
   ],
   "source": [
    "best_hps=tuner.get_best_hyperparameters(num_trials=1)[0]\n",
    "print(f\"\"\"\n",
    "The hyperparameter search is complete. \n",
    "conv_layers: {best_hps.get('conv_layers')}\n",
    "kernels: {best_hps.get('kernels')}\n",
    "dropout: {best_hps.get('dropout')}\n",
    "dense_layers: {best_hps.get('dense_layers')}\n",
    "neurons: {best_hps.get('neurons')}\n",
    "neurons2: {best_hps.get('neurons2')}\n",
    "learning rate: {best_hps.get('learning_rate')}\n",
    "\"\"\")"
   ]
  },
  {
   "cell_type": "markdown",
   "id": "3f919f0c-f522-4bd6-affc-e2289f8ce335",
   "metadata": {},
   "source": [
    "Next, let's figure out the optimal number of epochs to run."
   ]
  },
  {
   "cell_type": "code",
   "execution_count": 15,
   "id": "7ba09551-380c-4ea2-b2da-d70f37aaaa83",
   "metadata": {
    "collapsed": true,
    "jupyter": {
     "outputs_hidden": true
    },
    "tags": []
   },
   "outputs": [
    {
     "name": "stdout",
     "output_type": "stream",
     "text": [
      "Epoch 1/50\n",
      "83/83 [==============================] - 1s 6ms/step - loss: 0.6018 - accuracy: 0.7007 - val_loss: 1.3188 - val_accuracy: 0.0000e+00\n",
      "Epoch 2/50\n",
      "83/83 [==============================] - 0s 6ms/step - loss: 0.5491 - accuracy: 0.7255 - val_loss: 1.6857 - val_accuracy: 0.0075\n",
      "Epoch 3/50\n",
      "83/83 [==============================] - 0s 5ms/step - loss: 0.5253 - accuracy: 0.7504 - val_loss: 1.4056 - val_accuracy: 0.0663\n",
      "Epoch 4/50\n",
      "83/83 [==============================] - 0s 5ms/step - loss: 0.5107 - accuracy: 0.7688 - val_loss: 1.6116 - val_accuracy: 0.0422\n",
      "Epoch 5/50\n",
      "83/83 [==============================] - 0s 5ms/step - loss: 0.4880 - accuracy: 0.7779 - val_loss: 1.8377 - val_accuracy: 0.0301\n",
      "Epoch 6/50\n",
      "83/83 [==============================] - 0s 5ms/step - loss: 0.4699 - accuracy: 0.7888 - val_loss: 2.4951 - val_accuracy: 0.0060\n",
      "Epoch 7/50\n",
      "83/83 [==============================] - 0s 5ms/step - loss: 0.4732 - accuracy: 0.7865 - val_loss: 1.8221 - val_accuracy: 0.0377\n",
      "Epoch 8/50\n",
      "83/83 [==============================] - 0s 5ms/step - loss: 0.4416 - accuracy: 0.7967 - val_loss: 1.7465 - val_accuracy: 0.0617\n",
      "Epoch 9/50\n",
      "83/83 [==============================] - 0s 4ms/step - loss: 0.4339 - accuracy: 0.7989 - val_loss: 2.2416 - val_accuracy: 0.0497\n",
      "Epoch 10/50\n",
      "83/83 [==============================] - 0s 5ms/step - loss: 0.4344 - accuracy: 0.7978 - val_loss: 1.6223 - val_accuracy: 0.0738\n",
      "Epoch 11/50\n",
      "83/83 [==============================] - 0s 5ms/step - loss: 0.4055 - accuracy: 0.8140 - val_loss: 2.4849 - val_accuracy: 0.0346\n",
      "Epoch 12/50\n",
      "83/83 [==============================] - 0s 4ms/step - loss: 0.3865 - accuracy: 0.8261 - val_loss: 2.0423 - val_accuracy: 0.0663\n",
      "Epoch 13/50\n",
      "83/83 [==============================] - 0s 5ms/step - loss: 0.3504 - accuracy: 0.8471 - val_loss: 2.1183 - val_accuracy: 0.0919\n",
      "Epoch 14/50\n",
      "83/83 [==============================] - 0s 5ms/step - loss: 0.3286 - accuracy: 0.8599 - val_loss: 2.2481 - val_accuracy: 0.1145\n",
      "Epoch 15/50\n",
      "83/83 [==============================] - 0s 5ms/step - loss: 0.3242 - accuracy: 0.8641 - val_loss: 2.2490 - val_accuracy: 0.1220\n",
      "Epoch 16/50\n",
      "83/83 [==============================] - 0s 5ms/step - loss: 0.3097 - accuracy: 0.8652 - val_loss: 2.0474 - val_accuracy: 0.1220\n",
      "Epoch 17/50\n",
      "83/83 [==============================] - 0s 5ms/step - loss: 0.2753 - accuracy: 0.8818 - val_loss: 2.7371 - val_accuracy: 0.1084\n",
      "Epoch 18/50\n",
      "83/83 [==============================] - 0s 6ms/step - loss: 0.2833 - accuracy: 0.8795 - val_loss: 3.9664 - val_accuracy: 0.0708\n",
      "Epoch 19/50\n",
      "83/83 [==============================] - 0s 5ms/step - loss: 0.2397 - accuracy: 0.9002 - val_loss: 3.2761 - val_accuracy: 0.1220\n",
      "Epoch 20/50\n",
      "83/83 [==============================] - 0s 5ms/step - loss: 0.2282 - accuracy: 0.9021 - val_loss: 3.9040 - val_accuracy: 0.0783\n",
      "Epoch 21/50\n",
      "83/83 [==============================] - 0s 5ms/step - loss: 0.2085 - accuracy: 0.9138 - val_loss: 4.5367 - val_accuracy: 0.0708\n",
      "Epoch 22/50\n",
      "83/83 [==============================] - 0s 5ms/step - loss: 0.2126 - accuracy: 0.9160 - val_loss: 3.1513 - val_accuracy: 0.1702\n",
      "Epoch 23/50\n",
      "83/83 [==============================] - 0s 6ms/step - loss: 0.1909 - accuracy: 0.9217 - val_loss: 5.6086 - val_accuracy: 0.0467\n",
      "Epoch 24/50\n",
      "83/83 [==============================] - 1s 6ms/step - loss: 0.1611 - accuracy: 0.9345 - val_loss: 4.4837 - val_accuracy: 0.1084\n",
      "Epoch 25/50\n",
      "83/83 [==============================] - 0s 5ms/step - loss: 0.1639 - accuracy: 0.9337 - val_loss: 2.8493 - val_accuracy: 0.1988\n",
      "Epoch 26/50\n",
      "83/83 [==============================] - 0s 5ms/step - loss: 0.1598 - accuracy: 0.9334 - val_loss: 4.5319 - val_accuracy: 0.1114\n",
      "Epoch 27/50\n",
      "83/83 [==============================] - 0s 5ms/step - loss: 0.1251 - accuracy: 0.9533 - val_loss: 4.2075 - val_accuracy: 0.1958\n",
      "Epoch 28/50\n",
      "83/83 [==============================] - 0s 5ms/step - loss: 0.1136 - accuracy: 0.9575 - val_loss: 4.8540 - val_accuracy: 0.1039\n",
      "Epoch 29/50\n",
      "83/83 [==============================] - 0s 5ms/step - loss: 0.1067 - accuracy: 0.9586 - val_loss: 6.0288 - val_accuracy: 0.0828\n",
      "Epoch 30/50\n",
      "83/83 [==============================] - 0s 5ms/step - loss: 0.0938 - accuracy: 0.9661 - val_loss: 5.7893 - val_accuracy: 0.0964\n",
      "Epoch 31/50\n",
      "83/83 [==============================] - 0s 5ms/step - loss: 0.0845 - accuracy: 0.9703 - val_loss: 6.5748 - val_accuracy: 0.1024\n",
      "Epoch 32/50\n",
      "83/83 [==============================] - 1s 6ms/step - loss: 0.0761 - accuracy: 0.9714 - val_loss: 6.2156 - val_accuracy: 0.0904\n",
      "Epoch 33/50\n",
      "83/83 [==============================] - 0s 6ms/step - loss: 0.0861 - accuracy: 0.9680 - val_loss: 6.2291 - val_accuracy: 0.0708\n",
      "Epoch 34/50\n",
      "83/83 [==============================] - 1s 7ms/step - loss: 0.0942 - accuracy: 0.9642 - val_loss: 5.7853 - val_accuracy: 0.1175\n",
      "Epoch 35/50\n",
      "83/83 [==============================] - 0s 5ms/step - loss: 0.0572 - accuracy: 0.9793 - val_loss: 7.4369 - val_accuracy: 0.1069\n",
      "Epoch 36/50\n",
      "83/83 [==============================] - 0s 4ms/step - loss: 0.1004 - accuracy: 0.9657 - val_loss: 5.9359 - val_accuracy: 0.1114\n",
      "Epoch 37/50\n",
      "83/83 [==============================] - 0s 4ms/step - loss: 0.0631 - accuracy: 0.9770 - val_loss: 6.4365 - val_accuracy: 0.1009\n",
      "Epoch 38/50\n",
      "83/83 [==============================] - 0s 4ms/step - loss: 0.0856 - accuracy: 0.9706 - val_loss: 5.8507 - val_accuracy: 0.0919\n",
      "Epoch 39/50\n",
      "83/83 [==============================] - 0s 5ms/step - loss: 0.0659 - accuracy: 0.9804 - val_loss: 5.8042 - val_accuracy: 0.1416\n",
      "Epoch 40/50\n",
      "83/83 [==============================] - 0s 6ms/step - loss: 0.0681 - accuracy: 0.9729 - val_loss: 4.2165 - val_accuracy: 0.1958\n",
      "Epoch 41/50\n",
      "83/83 [==============================] - 1s 6ms/step - loss: 0.0628 - accuracy: 0.9774 - val_loss: 5.8798 - val_accuracy: 0.1235\n",
      "Epoch 42/50\n",
      "83/83 [==============================] - 0s 5ms/step - loss: 0.0678 - accuracy: 0.9755 - val_loss: 6.0476 - val_accuracy: 0.1355\n",
      "Epoch 43/50\n",
      "83/83 [==============================] - 0s 5ms/step - loss: 0.0445 - accuracy: 0.9834 - val_loss: 7.8314 - val_accuracy: 0.0889\n",
      "Epoch 44/50\n",
      "83/83 [==============================] - 0s 5ms/step - loss: 0.0614 - accuracy: 0.9770 - val_loss: 6.5798 - val_accuracy: 0.1265\n",
      "Epoch 45/50\n",
      "83/83 [==============================] - 0s 5ms/step - loss: 0.0994 - accuracy: 0.9631 - val_loss: 6.4124 - val_accuracy: 0.0919\n",
      "Epoch 46/50\n",
      "83/83 [==============================] - 0s 5ms/step - loss: 0.0443 - accuracy: 0.9834 - val_loss: 8.0690 - val_accuracy: 0.0693\n",
      "Epoch 47/50\n",
      "83/83 [==============================] - 0s 6ms/step - loss: 0.0447 - accuracy: 0.9797 - val_loss: 7.6242 - val_accuracy: 0.0904\n",
      "Epoch 48/50\n",
      "83/83 [==============================] - 0s 6ms/step - loss: 0.0386 - accuracy: 0.9864 - val_loss: 9.8090 - val_accuracy: 0.0663\n",
      "Epoch 49/50\n",
      "83/83 [==============================] - 0s 6ms/step - loss: 0.0580 - accuracy: 0.9770 - val_loss: 5.8471 - val_accuracy: 0.1717\n",
      "Epoch 50/50\n",
      "83/83 [==============================] - 0s 6ms/step - loss: 0.0607 - accuracy: 0.9774 - val_loss: 8.0306 - val_accuracy: 0.0768\n"
     ]
    }
   ],
   "source": [
    "# builds model with the best hyperparameters from above tuning.\n",
    "model = tuner.hypermodel.build(best_hps)\n",
    "history = model.fit(obj.train_x, obj.train_y, epochs=50, validation_split=0.2)"
   ]
  },
  {
   "cell_type": "code",
   "execution_count": 16,
   "id": "e6f6fee2-9383-4911-9585-41ec4f63e65d",
   "metadata": {},
   "outputs": [
    {
     "name": "stdout",
     "output_type": "stream",
     "text": [
      "Best epoch: 25\n"
     ]
    }
   ],
   "source": [
    "val_acc_per_epoch = history.history['val_accuracy']\n",
    "best_epoch = val_acc_per_epoch.index(max(val_acc_per_epoch)) + 1\n",
    "print('Best epoch: %d' % (best_epoch,))"
   ]
  },
  {
   "cell_type": "markdown",
   "id": "c6282e3c-f68a-46f5-aab9-c82250ed36e3",
   "metadata": {},
   "source": [
    "As an aside, I have run this tuner many times after reloading the pictures as different train/validation/test sets, and there seems to be two optimal \"classes\" of models: one with a single convolution layer of 16-24 kernels, or with two convolution layers of 8 kernels each. It seems like both models perform similar in regard to accuracy and AUC."
   ]
  },
  {
   "cell_type": "markdown",
   "id": "a38caf70-2b1a-4063-9f99-d2ce9d6a9234",
   "metadata": {},
   "source": [
    "## Rebuilding the optimized model"
   ]
  },
  {
   "cell_type": "markdown",
   "id": "6245ea85-9a48-49e6-b834-f49a9ac84f52",
   "metadata": {},
   "source": [
    "Now that we have optimized hyperparameters, we can rebuild our model using these parameters. Note that the optimization method may not be the best -- I suspect that some more optimal hyperparameter sets may have been filtered out due to a low patience value (patience=5). It seems like the models require around 10-so epochs just to get going, so it may be worth increasing the patience to 12-15. Tuning will run significantly longer though!"
   ]
  },
  {
   "cell_type": "markdown",
   "id": "6202ef92-463b-40d4-8b83-33ab5bb28837",
   "metadata": {},
   "source": [
    "Note that you can rebuild the model with the optimized parameters simply by running:\n",
    "```tuner.hypermodel.build(best_hps)```. I just rewrote it instead to visualize the model structure."
   ]
  },
  {
   "cell_type": "code",
   "execution_count": 18,
   "id": "ab989909-7527-4f78-acbe-5346b2546330",
   "metadata": {},
   "outputs": [],
   "source": [
    "from tensorflow.keras.layers import InputLayer, Input, Reshape, MaxPooling2D\n",
    "from tensorflow.keras.layers import Conv2D, Dense, Flatten, Dropout\n",
    "from tensorflow.config.experimental import list_physical_devices\n",
    "from tensorflow.python.keras.models import Model\n",
    "from tensorflow.keras.optimizers import Adam\n",
    "from tensorflow.keras.metrics import AUC"
   ]
  },
  {
   "cell_type": "code",
   "execution_count": 19,
   "id": "1938c492-fb9e-4775-b4f0-5d94d4f7331b",
   "metadata": {},
   "outputs": [],
   "source": [
    "# We'll start by creating an input function. Note that we are not creating a model object and\n",
    "# adding the layers to the model object; we are calling the inside function directly.\n",
    "inputs = Input(shape=(img_size_flat,))\n",
    "\n",
    "# Variable used for building the neural network\n",
    "net = inputs\n",
    "\n",
    "# Reshaping input\n",
    "reshape = Reshape(img_shape_full)   # Here, we're creating an object that consists of the Reshape command: specifically,\n",
    "                                    # reshaping to the shape of (32,32,3).\n",
    "\n",
    "net = reshape(net)                  # Since reshape is a callable object, we will call it.\n",
    "\n",
    "# In practice, it's faster to instead simply type:\n",
    "# net = Reshape(img_shape_full)(net).\n",
    "# Instead of assigning Reshape(img_shape_full) to a pointer, we're simply re-calling the object immediately.\n",
    "\n",
    "# 1st Convolutional Layer\n",
    "net = Conv2D(kernel_size=(5,5), strides=1, filters=16, padding='same',\n",
    "             activation='relu', name='layer_conv2')(net)\n",
    "net = MaxPooling2D(pool_size=(3,3), strides=2)(net)\n",
    "\n",
    "# Flatten\n",
    "net = Flatten()(net)\n",
    "\n",
    "# Dropout\n",
    "net = Dropout(rate=0.4)(net)\n",
    "\n",
    "# 1st Dense Layer\n",
    "net = Dense(100, activation='relu')(net)\n",
    "\n",
    "# 2nd Dense Layer\n",
    "net = Dense(100, activation='relu')(net)\n",
    "\n",
    "# 3rd Dense Layer\n",
    "net = Dense(20, activation='relu')(net)\n",
    "\n",
    "# 4th Dense Layer (output)\n",
    "net = Dense(2, activation='softmax')(net) # may use logistic activation here\n",
    "\n",
    "# setting our output to the result of this network\n",
    "outputs = net"
   ]
  },
  {
   "cell_type": "code",
   "execution_count": 20,
   "id": "9edbe8ef-5737-403a-8093-79ad7e903fc7",
   "metadata": {},
   "outputs": [],
   "source": [
    "from tensorflow.python.keras.optimizer_v2.adam import Adam\n",
    "\n",
    "# This will create an instance of our model.\n",
    "model_tuned = Model(inputs=inputs, outputs=outputs)\n",
    "\n",
    "model_tuned.compile(optimizer=Adam(learning_rate=1e-3),\n",
    "               loss='binary_crossentropy',\n",
    "               metrics=['accuracy'])"
   ]
  },
  {
   "cell_type": "markdown",
   "id": "b87d12df-cfbe-49fb-8104-d6e79409af4b",
   "metadata": {},
   "source": [
    "Now that the model has been compiled, let's run it again over the selected number of epochs."
   ]
  },
  {
   "cell_type": "code",
   "execution_count": 21,
   "id": "3cddf79c-c880-4013-a948-0397cfe425c2",
   "metadata": {},
   "outputs": [],
   "source": [
    "epochs = 0"
   ]
  },
  {
   "cell_type": "code",
   "execution_count": 22,
   "id": "dcbfb43d-6628-4cfe-b42b-f6066d55e743",
   "metadata": {},
   "outputs": [
    {
     "name": "stdout",
     "output_type": "stream",
     "text": [
      "Epoch 1/25\n",
      "52/52 [==============================] - 1s 12ms/step - loss: 0.6897 - accuracy: 0.5608\n",
      "Epoch 2/25\n",
      "52/52 [==============================] - 0s 5ms/step - loss: 0.6848 - accuracy: 0.5611\n",
      "Epoch 3/25\n",
      "52/52 [==============================] - 0s 5ms/step - loss: 0.6811 - accuracy: 0.5654\n",
      "Epoch 4/25\n",
      "52/52 [==============================] - 0s 4ms/step - loss: 0.6721 - accuracy: 0.5783\n",
      "Epoch 5/25\n",
      "52/52 [==============================] - 0s 4ms/step - loss: 0.6628 - accuracy: 0.5991\n",
      "Epoch 6/25\n",
      "52/52 [==============================] - 0s 4ms/step - loss: 0.6447 - accuracy: 0.6346\n",
      "Epoch 7/25\n",
      "52/52 [==============================] - 0s 5ms/step - loss: 0.6373 - accuracy: 0.6328\n",
      "Epoch 8/25\n",
      "52/52 [==============================] - 0s 5ms/step - loss: 0.6016 - accuracy: 0.6729\n",
      "Epoch 9/25\n",
      "52/52 [==============================] - 0s 4ms/step - loss: 0.5824 - accuracy: 0.6858\n",
      "Epoch 10/25\n",
      "52/52 [==============================] - 0s 5ms/step - loss: 0.5684 - accuracy: 0.6979\n",
      "Epoch 11/25\n",
      "52/52 [==============================] - 0s 5ms/step - loss: 0.5288 - accuracy: 0.7286\n",
      "Epoch 12/25\n",
      "52/52 [==============================] - 0s 6ms/step - loss: 0.4958 - accuracy: 0.7627\n",
      "Epoch 13/25\n",
      "52/52 [==============================] - 0s 5ms/step - loss: 0.4444 - accuracy: 0.7898\n",
      "Epoch 14/25\n",
      "52/52 [==============================] - 0s 5ms/step - loss: 0.4094 - accuracy: 0.8087\n",
      "Epoch 15/25\n",
      "52/52 [==============================] - 0s 5ms/step - loss: 0.3477 - accuracy: 0.8476\n",
      "Epoch 16/25\n",
      "52/52 [==============================] - 0s 5ms/step - loss: 0.3230 - accuracy: 0.8645\n",
      "Epoch 17/25\n",
      "52/52 [==============================] - 0s 5ms/step - loss: 0.2917 - accuracy: 0.8762\n",
      "Epoch 18/25\n",
      "52/52 [==============================] - 0s 5ms/step - loss: 0.2458 - accuracy: 0.9027\n",
      "Epoch 19/25\n",
      "52/52 [==============================] - 0s 5ms/step - loss: 0.2383 - accuracy: 0.9039\n",
      "Epoch 20/25\n",
      "52/52 [==============================] - 0s 5ms/step - loss: 0.1804 - accuracy: 0.9271\n",
      "Epoch 21/25\n",
      "52/52 [==============================] - 0s 5ms/step - loss: 0.1355 - accuracy: 0.9464\n",
      "Epoch 22/25\n",
      "52/52 [==============================] - 0s 6ms/step - loss: 0.1173 - accuracy: 0.9560\n",
      "Epoch 23/25\n",
      "52/52 [==============================] - 0s 6ms/step - loss: 0.0713 - accuracy: 0.9762\n",
      "Epoch 24/25\n",
      "52/52 [==============================] - 0s 5ms/step - loss: 0.0734 - accuracy: 0.9771\n",
      "Epoch 25/25\n",
      "52/52 [==============================] - 0s 5ms/step - loss: 0.0595 - accuracy: 0.9798\n",
      "Total epochs: 25\n"
     ]
    }
   ],
   "source": [
    "run_epochs = 25\n",
    "\n",
    "model_tuned.fit(x=obj.train_x,\n",
    "          y=obj.train_y,\n",
    "          epochs=run_epochs, batch_size=64)\n",
    "\n",
    "epochs += run_epochs\n",
    "print(\"Total epochs: \" + str(epochs))"
   ]
  },
  {
   "cell_type": "markdown",
   "id": "f5245588-1dc9-40a1-83d0-67e61e4c1ae6",
   "metadata": {},
   "source": [
    "Let's look at some basic properties of the model, as well as its performance on the validation set. Note that because I am building a functional model (not a sequential model), the ```summary()``` function does not give information on each individual layer."
   ]
  },
  {
   "cell_type": "code",
   "execution_count": 23,
   "id": "f8aec344-70ab-4c21-8e47-a22e07851006",
   "metadata": {},
   "outputs": [
    {
     "name": "stdout",
     "output_type": "stream",
     "text": [
      "Model: \"model\"\n",
      "_________________________________________________________________\n",
      "Layer (type)                 Output Shape              Param #   \n",
      "=================================================================\n",
      "Total params: 373,478\n",
      "Trainable params: 373,478\n",
      "Non-trainable params: 0\n",
      "_________________________________________________________________\n"
     ]
    }
   ],
   "source": [
    "model_tuned.summary()"
   ]
  },
  {
   "cell_type": "code",
   "execution_count": 24,
   "id": "d7dd3290-08ee-43a5-81fa-415f8e4c7833",
   "metadata": {},
   "outputs": [
    {
     "name": "stdout",
     "output_type": "stream",
     "text": [
      "13/13 [==============================] - 0s 20ms/step - loss: 1.0377 - accuracy: 0.7422\n",
      "loss 1.0377312898635864\n",
      "accuracy 0.742168664932251\n"
     ]
    }
   ],
   "source": [
    "results = model_tuned.evaluate(x = obj.validation_x, y = obj.validation_y)\n",
    "\n",
    "for name, value in zip(model_tuned.metrics_names, results):\n",
    "    print(name, value)"
   ]
  },
  {
   "cell_type": "markdown",
   "id": "258341d3-e295-44a8-9c26-f3ffabb6a256",
   "metadata": {},
   "source": [
    "Finally, let's assess the model's performance on the test set."
   ]
  },
  {
   "cell_type": "code",
   "execution_count": 25,
   "id": "a55dc6c2-7294-4081-86f5-ec289403365e",
   "metadata": {},
   "outputs": [
    {
     "name": "stdout",
     "output_type": "stream",
     "text": [
      "13/13 [==============================] - 0s 5ms/step - loss: 0.9613 - accuracy: 0.7542\n"
     ]
    }
   ],
   "source": [
    "test_results = model_tuned.evaluate(x = obj.test_x, y = obj.test_y)"
   ]
  },
  {
   "cell_type": "code",
   "execution_count": 26,
   "id": "102431b6-ce42-4ffa-b8a1-431c5990df7d",
   "metadata": {},
   "outputs": [],
   "source": [
    "y_pred = np.argmax(model_tuned.predict(x=obj.test_x), axis=1)\n",
    "y_true = np.argmax(obj.test_y, axis=1)"
   ]
  },
  {
   "cell_type": "code",
   "execution_count": 27,
   "id": "7a6a586c-36d5-4174-bc7b-8181ca836502",
   "metadata": {},
   "outputs": [
    {
     "data": {
      "text/plain": [
       "array([[115,  48],\n",
       "       [ 54, 198]], dtype=int32)"
      ]
     },
     "execution_count": 27,
     "metadata": {},
     "output_type": "execute_result"
    }
   ],
   "source": [
    "conf_matrix = confusion_matrix(y_true, y_pred)\n",
    "conf_matrix = np.asarray(conf_matrix)\n",
    "conf_matrix"
   ]
  },
  {
   "cell_type": "code",
   "execution_count": 28,
   "id": "9b3568f4-6405-4506-b404-c5f6dd3678ef",
   "metadata": {},
   "outputs": [
    {
     "name": "stdout",
     "output_type": "stream",
     "text": [
      "Accuracy =\t0.7542168674698795\n",
      "Precision =\t0.8048780487804879\n",
      "Sensitivity =\t0.7857142857142857\n",
      "Specificity =\t0.7055214723926381\n"
     ]
    },
    {
     "data": {
      "text/plain": [
       "(0.7542168674698795,\n",
       " 0.8048780487804879,\n",
       " 0.7857142857142857,\n",
       " 0.7055214723926381)"
      ]
     },
     "execution_count": 28,
     "metadata": {},
     "output_type": "execute_result"
    }
   ],
   "source": [
    "MRIs.test_model_stats(conf_matrix)"
   ]
  },
  {
   "cell_type": "code",
   "execution_count": 29,
   "id": "f1ac3a01-bdbd-4d85-b3cf-807947fa0caa",
   "metadata": {},
   "outputs": [
    {
     "data": {
      "text/plain": [
       "<tf.Tensor: shape=(), dtype=float32, numpy=0.74561787>"
      ]
     },
     "execution_count": 29,
     "metadata": {},
     "output_type": "execute_result"
    }
   ],
   "source": [
    "auc = AUC()\n",
    "auc.update_state(y_true, y_pred)\n",
    "auc.result()"
   ]
  },
  {
   "cell_type": "markdown",
   "id": "99012877-5167-4f27-9319-c2c5f91dfef7",
   "metadata": {},
   "source": [
    "Now to plot some images, and error images:"
   ]
  },
  {
   "cell_type": "code",
   "execution_count": 30,
   "id": "f4bc7d63-1238-4509-a354-69ee910ea2e5",
   "metadata": {},
   "outputs": [
    {
     "data": {
      "image/png": "[encoded data removed]",
      "text/plain": [
       "<Figure size 432x288 with 9 Axes>"
      ]
     },
     "metadata": {},
     "output_type": "display_data"
    }
   ],
   "source": [
    "MRIs.plot_images(images=obj.test_x[0:9], cls_true=y_true[0:9], cls_pred=y_pred[0:9]) "
   ]
  },
  {
   "cell_type": "code",
   "execution_count": 31,
   "id": "3953cf8a-39ab-4eb7-ad44-e1d0fc8c0e1d",
   "metadata": {},
   "outputs": [
    {
     "data": {
      "image/png": "[encoded data removed]",
      "text/plain": [
       "<Figure size 432x288 with 9 Axes>"
      ]
     },
     "metadata": {},
     "output_type": "display_data"
    }
   ],
   "source": [
    "MRIs.plot_example_errors(data=obj, cls_pred=y_pred)"
   ]
  },
  {
   "cell_type": "markdown",
   "id": "0d9d0c60-0caa-4094-b047-353c6157340d",
   "metadata": {},
   "source": [
    "# Conclusion\n",
    "\n",
    "So we've created a model which appears to have ~73% test accuracy, with ~79% and ~76% precision and accuracy, respectively. Because both training data and test data come from different subsample cuts from the same patients, there are a few large experimental design flaws that need working out. First, instead of splitting individual images into training-validation-test, I should split patients instead, to see whether the patterns our model architecture identifies are generalizing to PD. Furthermore, there is still a reproducibility issue to fix regarding the train-validation-test splitting! Finally, I will have to give the option to set a seed so that the random generation of subsamples/splits is reproducible."
   ]
  },
  {
   "cell_type": "markdown",
   "id": "1040c980-b8c2-4b24-9ef2-48688e796e6f",
   "metadata": {},
   "source": [
    "Ta-dah! This concludes the tutorial on how to run this workflow. Please feel free to ask more questions by sending me an email at gani.perez@gmail.com, or creating an issue on the associated git repository. I'll get to it as soon as I figure out how to use git. Thanks!"
   ]
  }
 ],
 "metadata": {
  "kernelspec": {
   "display_name": "Python 3 (ipykernel)",
   "language": "python",
   "name": "python3"
  },
  "language_info": {
   "codemirror_mode": {
    "name": "ipython",
    "version": 3
   },
   "file_extension": ".py",
   "mimetype": "text/x-python",
   "name": "python",
   "nbconvert_exporter": "python",
   "pygments_lexer": "ipython3",
   "version": "3.9.7"
  }
 },
 "nbformat": 4,
 "nbformat_minor": 5
}
